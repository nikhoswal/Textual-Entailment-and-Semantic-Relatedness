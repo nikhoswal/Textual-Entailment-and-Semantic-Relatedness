{
  "nbformat": 4,
  "nbformat_minor": 0,
  "metadata": {
    "colab": {
      "name": "Textual_Entailment.ipynb",
      "version": "0.3.2",
      "provenance": [],
      "collapsed_sections": [
        "JQCAG3eMQ4b2"
      ],
      "toc_visible": true
    },
    "kernelspec": {
      "name": "python2",
      "display_name": "Python 2"
    },
    "accelerator": "TPU"
  },
  "cells": [
    {
      "metadata": {
        "id": "EOqySLsaQ4bq",
        "colab_type": "code",
        "outputId": "94ad8312-1b08-41bf-fd03-3cae02baba75",
        "colab": {
          "base_uri": "https://localhost:8080/",
          "height": 581
        }
      },
      "cell_type": "code",
      "source": [
        "!pip install ggplot\n",
        "from __future__ import print_function\n",
        "%matplotlib inline\n",
        "\n",
        "from IPython.display import Image, display\n",
        "from io import BytesIO\n",
        "import matplotlib.pyplot as plt\n",
        "\n",
        "import os\n",
        "from os.path import join, exists\n",
        "import sys\n",
        "import numpy as np\n",
        "import time\n",
        "\n",
        "import urllib2\n",
        "import json\n",
        "from zipfile import ZipFile\n",
        "\n",
        "import pandas as pd\n",
        "import pydot_ng as pydot\n",
        "import graphviz\n",
        "from ggplot import *\n",
        "\n",
        "import tensorflow as tf\n",
        "\n",
        "from keras import backend as K\n",
        "from keras.preprocessing.text import Tokenizer\n",
        "from keras.preprocessing.sequence import pad_sequences\n",
        "from keras.utils.data_utils import get_file\n",
        "from keras.utils import to_categorical, plot_model\n",
        "from keras.models import Sequential, Model, load_model\n",
        "from keras.layers import Embedding, Dense, Input, Dropout, Reshape, BatchNormalization, TimeDistributed, Lambda, Layer, LSTM, Bidirectional, Convolution1D, GRU, add, concatenate\n",
        "from keras.callbacks import Callback, ModelCheckpoint, TensorBoard, BaseLogger, ReduceLROnPlateau\n",
        "from keras.optimizers import RMSprop, Adam, SGD, Adagrad\n",
        "\n",
        "from keras.utils import to_categorical, plot_model\n",
        "from keras.utils import np_utils\n",
        "import pandas as pd\n",
        "from sklearn.preprocessing import LabelEncoder\n",
        "from keras.utils import np_utils\n",
        "\n",
        "import numpy as np\n",
        "import pandas as pd\n",
        "from keras.models import Sequential\n",
        "from keras.layers import Dense, Embedding, Flatten\n",
        "from keras.layers.convolutional import Conv1D\n",
        "from keras.layers.convolutional import MaxPooling1D\n",
        "from keras.initializers import Constant\n",
        "\n",
        "\n",
        "from sklearn.preprocessing import LabelEncoder\n",
        "from sklearn.pipeline import FeatureUnion\n",
        "from sklearn.feature_extraction.text import CountVectorizer, TfidfVectorizer\n",
        "from keras.callbacks import Callback\n",
        "import tensorflow_hub as hub\n",
        "import tensorflow as tf\n",
        "import re\n",
        "\n",
        "import keras.layers as layers\n",
        "from keras.layers import Input, Dropout, Dense, concatenate, Embedding, Flatten, Activation, SpatialDropout1D\n",
        "from keras.layers import Bidirectional, GRU, GlobalAveragePooling1D, GlobalMaxPooling1D\n",
        "from keras.optimizers import Adam\n",
        "from keras.models import Model\n",
        "from keras.utils import np_utils\n",
        "from keras.engine import Layer\n",
        "\n",
        "from keras.preprocessing import sequence\n",
        "from keras.models import Sequential\n",
        "from keras.models import load_model\n",
        "from keras.layers import LSTM, CuDNNGRU, CuDNNLSTM, Add, Reshape, SimpleRNN\n",
        "from keras.layers import MaxPooling1D, Conv1D, MaxPooling1D, Conv2D, MaxPooling2D\n",
        "from keras.callbacks import EarlyStopping, ModelCheckpoint, ReduceLROnPlateau\n",
        "from nltk.tokenize import sent_tokenize, word_tokenize\n",
        "\n",
        "import warnings\n",
        "warnings.filterwarnings('ignore')\n",
        "import os\n",
        "os.environ['OMP_NUM_THREADS'] = '4'\n",
        "\n",
        "import re\n",
        "import math\n",
        "# set seed\n",
        "np.random.seed(123)\n",
        "le = LabelEncoder()"
      ],
      "execution_count": 5,
      "outputs": [
        {
          "output_type": "stream",
          "text": [
            "Collecting ggplot\n",
            "\u001b[?25l  Downloading https://files.pythonhosted.org/packages/48/04/5c88cc51c6713583f2dc78a5296adb9741505348c323d5875bc976143db2/ggplot-0.11.5-py2.py3-none-any.whl (2.2MB)\n",
            "\u001b[K    100% |████████████████████████████████| 2.2MB 7.1MB/s \n",
            "\u001b[?25hRequirement already satisfied: six in /usr/local/lib/python2.7/dist-packages (from ggplot) (1.11.0)\n",
            "Requirement already satisfied: numpy in /usr/local/lib/python2.7/dist-packages (from ggplot) (1.14.6)\n",
            "Requirement already satisfied: cycler in /usr/local/lib/python2.7/dist-packages (from ggplot) (0.10.0)\n",
            "Requirement already satisfied: pandas in /usr/local/lib/python2.7/dist-packages (from ggplot) (0.22.0)\n",
            "Requirement already satisfied: matplotlib in /usr/local/lib/python2.7/dist-packages (from ggplot) (2.2.4)\n",
            "Collecting brewer2mpl (from ggplot)\n",
            "  Downloading https://files.pythonhosted.org/packages/84/57/00c45a199719e617db0875181134fcb3aeef701deae346547ac722eaaf5e/brewer2mpl-1.4.1-py2.py3-none-any.whl\n",
            "Requirement already satisfied: scipy in /usr/local/lib/python2.7/dist-packages (from ggplot) (1.1.0)\n",
            "Requirement already satisfied: patsy>=0.4 in /usr/local/lib/python2.7/dist-packages (from ggplot) (0.5.1)\n",
            "Requirement already satisfied: statsmodels in /usr/local/lib/python2.7/dist-packages (from ggplot) (0.8.0)\n",
            "Requirement already satisfied: pytz>=2011k in /usr/local/lib/python2.7/dist-packages (from pandas->ggplot) (2018.9)\n",
            "Requirement already satisfied: python-dateutil in /usr/local/lib/python2.7/dist-packages (from pandas->ggplot) (2.5.3)\n",
            "Requirement already satisfied: backports.functools-lru-cache in /usr/local/lib/python2.7/dist-packages (from matplotlib->ggplot) (1.5)\n",
            "Requirement already satisfied: subprocess32 in /usr/local/lib/python2.7/dist-packages (from matplotlib->ggplot) (3.5.3)\n",
            "Requirement already satisfied: kiwisolver>=1.0.1 in /usr/local/lib/python2.7/dist-packages (from matplotlib->ggplot) (1.0.1)\n",
            "Requirement already satisfied: pyparsing!=2.0.4,!=2.1.2,!=2.1.6,>=2.0.1 in /usr/local/lib/python2.7/dist-packages (from matplotlib->ggplot) (2.3.1)\n",
            "Requirement already satisfied: setuptools in /usr/local/lib/python2.7/dist-packages (from kiwisolver>=1.0.1->matplotlib->ggplot) (40.8.0)\n",
            "Installing collected packages: brewer2mpl, ggplot\n",
            "Successfully installed brewer2mpl-1.4.1 ggplot-0.11.5\n"
          ],
          "name": "stdout"
        },
        {
          "output_type": "stream",
          "text": [
            "/usr/local/lib/python2.7/dist-packages/ggplot/utils.py:81: FutureWarning: pandas.tslib is deprecated and will be removed in a future version.\n",
            "You can access Timestamp as pandas.Timestamp\n",
            "  pd.tslib.Timestamp,\n",
            "/usr/local/lib/python2.7/dist-packages/ggplot/stats/smoothers.py:4: FutureWarning: The pandas.lib module is deprecated and will be removed in a future version. These are private functions and can be accessed from pandas._libs.lib instead\n",
            "  from pandas.lib import Timestamp\n",
            "/usr/local/lib/python2.7/dist-packages/statsmodels/compat/pandas.py:56: FutureWarning: The pandas.core.datetools module is deprecated and will be removed in a future version. Please use the pandas.tseries module instead.\n",
            "  from pandas.core import datetools\n",
            "Using TensorFlow backend.\n",
            "WARNING: Logging before flag parsing goes to stderr.\n",
            "W0321 23:47:48.930572 140635839350656 __init__.py:56] Some hub symbols are not available because TensorFlow version is less than 1.14\n"
          ],
          "name": "stderr"
        }
      ]
    },
    {
      "metadata": {
        "id": "bjJLxQelQ4bt",
        "colab_type": "code",
        "colab": {}
      },
      "cell_type": "code",
      "source": [
        "training_sample_size = 1000 # Change this to -1 if you want all\n",
        "max_seq_length = 30 # max 400\n",
        "\n",
        "model_name = 'small'\n",
        "\n",
        "lr = 0.001\n",
        "lr_decay = 1e-4\n",
        "epochs = 10\n",
        "batch_size = 32\n"
      ],
      "execution_count": 0,
      "outputs": []
    },
    {
      "metadata": {
        "id": "JQCAG3eMQ4b2",
        "colab_type": "text"
      },
      "cell_type": "markdown",
      "source": [
        "## Download GloVe"
      ]
    },
    {
      "metadata": {
        "id": "CEoJcyJ7Q4b3",
        "colab_type": "code",
        "outputId": "50a38c94-3285-4eaf-8676-a9076c31e3ab",
        "colab": {
          "base_uri": "https://localhost:8080/",
          "height": 85
        }
      },
      "cell_type": "code",
      "source": [
        "glove_url = 'http://nlp.stanford.edu/data/glove.840B.300d.zip'\n",
        "embedding_dim = 300\n",
        "glove_filename = 'glove.840B.' + str(embedding_dim) + 'd.zip'\n",
        "glove_loc = join(glove_filename)\n",
        "\n",
        "if not exists(glove_loc):\n",
        "    print('Download %s' % glove_filename)\n",
        "    get_file(glove_filename, glove_url, cache_dir='.', extract=True)\n",
        "\n"
      ],
      "execution_count": 18,
      "outputs": [
        {
          "output_type": "stream",
          "text": [
            "Download glove.840B.300d.zip\n",
            "Downloading data from http://nlp.stanford.edu/data/glove.840B.300d.zip\n",
            "2176770048/2176768927 [==============================] - 848s 0us/step\n",
            "2176778240/2176768927 [==============================] - 848s 0us/step\n"
          ],
          "name": "stdout"
        }
      ]
    },
    {
      "metadata": {
        "id": "oezA0xIkVhkY",
        "colab_type": "code",
        "outputId": "d1e29ca4-96c4-4dc7-cf10-2471e0a12d92",
        "colab": {
          "base_uri": "https://localhost:8080/",
          "height": 51
        }
      },
      "cell_type": "code",
      "source": [
        "glove_filename = os.path.join(\"datasets\", 'glove.840B.300d.txt')\n",
        "\n",
        "embeddings = {}\n",
        "\n",
        "print('Extract %s' % glove_filename)\n",
        "with open(glove_filename, 'r') as f:\n",
        "    for line in f:\n",
        "        values = line.split(' ')\n",
        "        word = values[0]\n",
        "        embedding = np.asarray(values[1:], dtype='float32')\n",
        "        embeddings[word] = embedding\n",
        "        \n",
        "print('Embeddings size: %d' % len(embeddings))"
      ],
      "execution_count": 19,
      "outputs": [
        {
          "output_type": "stream",
          "text": [
            "Extract datasets/glove.840B.300d.txt\n",
            "Embeddings size: 2196016\n"
          ],
          "name": "stdout"
        }
      ]
    },
    {
      "metadata": {
        "id": "uKMRpDV98d2W",
        "colab_type": "text"
      },
      "cell_type": "markdown",
      "source": [
        "## **Loading Dataset**"
      ]
    },
    {
      "metadata": {
        "id": "WGCtPFBLSu9K",
        "colab_type": "code",
        "colab": {}
      },
      "cell_type": "code",
      "source": [
        "def readFile(fileName):\n",
        "  data = pd.read_csv(fileName, delimiter='\\t', header = None, skiprows=1)\n",
        "  data.columns = [\"pair_ID\", \"sentence_A\", \"sentence_B\", \"relatedness_score\", \"entailment_judgment\"]\n",
        "  return data"
      ],
      "execution_count": 0,
      "outputs": []
    },
    {
      "metadata": {
        "id": "pwqeaQNJSvAw",
        "colab_type": "code",
        "colab": {}
      },
      "cell_type": "code",
      "source": [
        "train = readFile('SICK_train.txt')\n",
        "test = readFile('SICK_test_annotated.txt')\n",
        "valid = readFile('SICK_trial.txt')"
      ],
      "execution_count": 0,
      "outputs": []
    },
    {
      "metadata": {
        "id": "pkhhw0-CSvDm",
        "colab_type": "code",
        "colab": {}
      },
      "cell_type": "code",
      "source": [
        "train_df_features = train[['sentence_A','sentence_B']]\n",
        "textsValid = valid[['sentence_A','sentence_B']]\n"
      ],
      "execution_count": 0,
      "outputs": []
    },
    {
      "metadata": {
        "id": "a5PmY9qeSvHF",
        "colab_type": "code",
        "colab": {}
      },
      "cell_type": "code",
      "source": [
        "labels = np_utils.to_categorical(le.fit_transform(train[\"entailment_judgment\"].values)).astype(\"int64\")\n",
        "\n",
        "labelsValid = np_utils.to_categorical(le.fit_transform(valid[\"entailment_judgment\"].values)).astype(\"int64\")\n",
        "\n",
        "textsTest = test[['sentence_A','sentence_B']]\n",
        "labelsTest = np_utils.to_categorical(le.fit_transform(test[\"entailment_judgment\"].values)).astype(\"int64\")\n"
      ],
      "execution_count": 0,
      "outputs": []
    },
    {
      "metadata": {
        "id": "VNyeNmUIXpVB",
        "colab_type": "code",
        "colab": {}
      },
      "cell_type": "code",
      "source": [
        "train_sentence1 = train['sentence_A'].values.tolist()\n",
        "train_sentence2 = train['sentence_B'].values.tolist()\n",
        "\n",
        "valid_sentence1 = valid['sentence_A'].values.tolist()\n",
        "valid_sentence2 = valid['sentence_B'].values.tolist()"
      ],
      "execution_count": 0,
      "outputs": []
    },
    {
      "metadata": {
        "id": "nKbmbLEqQ4ch",
        "colab_type": "text"
      },
      "cell_type": "markdown",
      "source": [
        "## Prepare Word Embeddings"
      ]
    },
    {
      "metadata": {
        "id": "okCOLHqoQ4ci",
        "colab_type": "code",
        "outputId": "564f1b90-35cd-40b4-e071-3cb04ab6af83",
        "colab": {
          "base_uri": "https://localhost:8080/",
          "height": 51
        }
      },
      "cell_type": "code",
      "source": [
        "NUM_WORDS = len(embeddings) #200000\n",
        "\n",
        "print('Found %s samples.' % len(train_sentence1))\n",
        "\n",
        "train_sentences = train_sentence1 + train_sentence2\n",
        "valid_sentences = valid_sentence1 + valid_sentence2\n",
        "\n",
        "\n",
        "tokenizer = Tokenizer(num_words = NUM_WORDS)\n",
        "tokenizer.fit_on_texts(train_sentences)\n",
        "\n",
        "sentence1_word_sequences = tokenizer.texts_to_sequences(train_sentence1)\n",
        "sentence2_word_sequences = tokenizer.texts_to_sequences(train_sentence2)\n",
        "\n",
        "valid_sentence1_word_sequences = tokenizer.texts_to_sequences(valid_sentence1)\n",
        "valid_sentence2_word_sequences = tokenizer.texts_to_sequences(valid_sentence2)\n",
        "\n",
        "\n",
        "word_index = tokenizer.word_index\n",
        "\n",
        "print('Found %s unique tokens.' % len(word_index))"
      ],
      "execution_count": 25,
      "outputs": [
        {
          "output_type": "stream",
          "text": [
            "Found 4500 samples.\n",
            "Found 2184 unique tokens.\n"
          ],
          "name": "stdout"
        }
      ]
    },
    {
      "metadata": {
        "id": "4QuNdxm4Q4cl",
        "colab_type": "code",
        "colab": {}
      },
      "cell_type": "code",
      "source": [
        "from collections import defaultdict\n",
        "\n",
        "words_len = min(NUM_WORDS, len(word_index))\n",
        "# word_embedding_matrix = np.zeros((words_len + 1, embedding_dim))\n",
        "word_embedding_matrix = np.random.random((words_len + 1, embedding_dim))\n",
        "k = 0\n",
        "for word, i in word_index.items():\n",
        "    if i >= NUM_WORDS:\n",
        "        continue\n",
        "    embedding_vector = embeddings.get(word)\n",
        "    if embedding_vector is not None:\n",
        "        word_embedding_matrix[i] = embedding_vector\n",
        "        k += 1\n",
        "        \n",
        "max_word_count_text = 0\n",
        "text_count = defaultdict(int)\n",
        "for sentence in sentence1_word_sequences:\n",
        "    max_word_count_text = max(max_word_count_text, len(sentence))\n",
        "    text_count[len(sentence)] += 1\n",
        "\n",
        "max_word_count_hypo = 0\n",
        "hypo_count = defaultdict(int)\n",
        "for sentence in sentence2_word_sequences:\n",
        "    max_word_count_hypo = max(max_word_count_hypo, len(sentence))\n",
        "    hypo_count[len(sentence)] += 1\n",
        "        "
      ],
      "execution_count": 0,
      "outputs": []
    },
    {
      "metadata": {
        "id": "wgpYf-FDQ4cn",
        "colab_type": "code",
        "outputId": "7d957374-94fd-47fb-ee57-50b0f0f63fe9",
        "colab": {
          "base_uri": "https://localhost:8080/",
          "height": 294
        }
      },
      "cell_type": "code",
      "source": [
        "\n",
        "mpl_fig = plt.figure()\n",
        "ax = mpl_fig.add_subplot(111)\n",
        "\n",
        "ax.bar(range(len(hypo_count)), hypo_count.values(), alpha=0.7)\n",
        "\n",
        "plt.title(\"Sentence Length Distribution - Hypothesis\")\n",
        "plt.xlabel(\"Length\")\n",
        "plt.ylabel(\"Frequency\")\n",
        "plt.show()"
      ],
      "execution_count": 27,
      "outputs": [
        {
          "output_type": "display_data",
          "data": {
            "image/png": "[encoded data removed]",
            "text/plain": [
              "<Figure size 432x288 with 1 Axes>"
            ]
          },
          "metadata": {
            "tags": []
          }
        }
      ]
    },
    {
      "metadata": {
        "id": "UzOSxQmvQ4cq",
        "colab_type": "code",
        "outputId": "3fcb8ade-d0c0-4e74-f5e6-d8e6d047e812",
        "colab": {
          "base_uri": "https://localhost:8080/",
          "height": 102
        }
      },
      "cell_type": "code",
      "source": [
        "print('Null word embeddings: %d' % (np.sum(np.sum(word_embedding_matrix, axis=1) == 0) - 1))\n",
        "print('Found %d' % k)\n",
        "print('Total: %d' % len(word_embedding_matrix))\n",
        "print('Max word text: %d' % max_word_count_text)\n",
        "print('Max word hypothesis: %d' % max_word_count_hypo)"
      ],
      "execution_count": 28,
      "outputs": [
        {
          "output_type": "stream",
          "text": [
            "Null word embeddings: -1\n",
            "Found 2163\n",
            "Total: 2185\n",
            "Max word text: 28\n",
            "Max word hypothesis: 32\n"
          ],
          "name": "stdout"
        }
      ]
    },
    {
      "metadata": {
        "id": "yHAWkbAGYdgY",
        "colab_type": "code",
        "colab": {}
      },
      "cell_type": "code",
      "source": [
        "\n"
      ],
      "execution_count": 0,
      "outputs": []
    },
    {
      "metadata": {
        "id": "Su4IQn5iQ4cs",
        "colab_type": "code",
        "outputId": "b5d53565-a1bd-441a-8bb5-4d1868cb136b",
        "colab": {
          "base_uri": "https://localhost:8080/",
          "height": 68
        }
      },
      "cell_type": "code",
      "source": [
        "s1_data = pad_sequences(sentence1_word_sequences, maxlen = max_seq_length)\n",
        "s2_data = pad_sequences(sentence2_word_sequences, maxlen = max_seq_length)\n",
        "s1_dataValid = pad_sequences(valid_sentence1_word_sequences, maxlen = max_seq_length)\n",
        "s2_dataValid = pad_sequences(valid_sentence2_word_sequences, maxlen = max_seq_length)\n",
        "\n",
        "\n",
        "labels = np_utils.to_categorical(le.fit_transform(train[\"entailment_judgment\"].values)).astype(\"int64\")\n",
        "labelsValid = np_utils.to_categorical(le.fit_transform(valid[\"entailment_judgment\"].values)).astype(\"int64\")\n",
        "\n",
        "\n",
        "\n",
        "print('Shape of sentence1 tensor:', s1_data.shape)\n",
        "print('Shape of sentence2 tensor:', s2_data.shape)\n",
        "print('Shape of label tensor:', labels.shape)"
      ],
      "execution_count": 29,
      "outputs": [
        {
          "output_type": "stream",
          "text": [
            "Shape of sentence1 tensor: (4500, 30)\n",
            "Shape of sentence2 tensor: (4500, 30)\n",
            "Shape of label tensor: (4500, 3)\n"
          ],
          "name": "stdout"
        }
      ]
    },
    {
      "metadata": {
        "id": "WiSmSQq7Q4cv",
        "colab_type": "code",
        "outputId": "cc54d429-f156-4dd8-e1aa-d82b2e2ac251",
        "colab": {
          "base_uri": "https://localhost:8080/",
          "height": 153
        }
      },
      "cell_type": "code",
      "source": [
        "print('One sample')\n",
        "\n",
        "print('Text: ')\n",
        "print( train_sentence1[0] )\n",
        "\n",
        "print('Word sequence: ')\n",
        "print( sentence1_word_sequences[0] )\n",
        "\n",
        "print('Pad: ')\n",
        "print( s1_data[0] )"
      ],
      "execution_count": 30,
      "outputs": [
        {
          "output_type": "stream",
          "text": [
            "One sample\n",
            "Text: \n",
            "A group of kids is playing in a yard and an old man is standing in the background\n",
            "Word sequence: \n",
            "[1, 63, 10, 114, 2, 12, 5, 1, 212, 6, 19, 271, 4, 2, 21, 5, 3, 213]\n",
            "Pad: \n",
            "[  0   0   0   0   0   0   0   0   0   0   0   0   1  63  10 114   2  12\n",
            "   5   1 212   6  19 271   4   2  21   5   3 213]\n"
          ],
          "name": "stdout"
        }
      ]
    },
    {
      "metadata": {
        "id": "hLXu1bdf-m8Z",
        "colab_type": "text"
      },
      "cell_type": "markdown",
      "source": [
        "## Oversampling "
      ]
    },
    {
      "metadata": {
        "id": "g35sQui5-rdW",
        "colab_type": "code",
        "outputId": "90a5cff4-b9d5-4dfd-ec62-ad2ba492dc19",
        "colab": {
          "base_uri": "https://localhost:8080/",
          "height": 51
        }
      },
      "cell_type": "code",
      "source": [
        "x1Dataframe = pd.DataFrame.from_records(s1_data)\n",
        "x2Dataframe = pd.DataFrame.from_records(s2_data)\n",
        "labels = pd.DataFrame.from_records(labels)\n",
        "\n",
        "\n",
        "xxx = pd.concat([x1Dataframe, x2Dataframe], axis=1)\n",
        "X = np.array(xxx.ix[:, :])\n",
        "print('Shape of X: {}'.format(X.shape))\n",
        "\n",
        "Y = np.array(labels.ix[:, :])\n",
        "print('Shape of X: {}'.format(Y.shape))\n",
        "\n"
      ],
      "execution_count": 0,
      "outputs": [
        {
          "output_type": "stream",
          "text": [
            "Shape of X: (7608, 60)\n",
            "Shape of X: (7608, 3)\n"
          ],
          "name": "stdout"
        }
      ]
    },
    {
      "metadata": {
        "id": "aUbPJV2f-rf1",
        "colab_type": "code",
        "colab": {}
      },
      "cell_type": "code",
      "source": [
        "from imblearn.over_sampling import SMOTE\n",
        "\n",
        "smote = SMOTE('minority')\n",
        "\n",
        "x_sm, labels = smote.fit_sample(X, Y)\n",
        "\n",
        "x_sm, labels = smote.fit_sample(x_sm, labels)\n"
      ],
      "execution_count": 0,
      "outputs": []
    },
    {
      "metadata": {
        "id": "9FgXzC6z-rij",
        "colab_type": "code",
        "outputId": "9142816f-ca8a-4d4e-f1f2-35aaa5753763",
        "colab": {
          "base_uri": "https://localhost:8080/",
          "height": 85
        }
      },
      "cell_type": "code",
      "source": [
        "dataframe = pd.DataFrame.from_records(x_sm)\n",
        "dataframe.head()\n",
        "print(x_sm.shape)\n",
        "\n",
        "print(x_sm[:,0:max_seq_length].shape)\n",
        "\n",
        "s1_data= x_sm[:,0:max_seq_length]\n",
        "print(s1_data.shape)\n",
        "s2_data= x_sm[:,max_seq_length:max_seq_length*2]\n",
        "print(s2_data.shape)\n"
      ],
      "execution_count": 0,
      "outputs": [
        {
          "output_type": "stream",
          "text": [
            "(7608, 60)\n",
            "(7608, 30)\n",
            "(7608, 30)\n",
            "(7608, 30)\n"
          ],
          "name": "stdout"
        }
      ]
    },
    {
      "metadata": {
        "id": "FNHgkPs2Q4cy",
        "colab_type": "text"
      },
      "cell_type": "markdown",
      "source": [
        "\n",
        "## Helper methods."
      ]
    },
    {
      "metadata": {
        "id": "BET_Zz9xQ4cy",
        "colab_type": "code",
        "colab": {}
      },
      "cell_type": "code",
      "source": [
        "eps = 1e-6\n",
        "\n",
        "def precision(y_true, y_pred):\n",
        "    true_positives = K.sum(K.round(K.clip(y_true * y_pred, 0, 1)))\n",
        "    predicted_positives = K.sum(K.round(K.clip(y_pred, 0, 1)))\n",
        "    precision = true_positives / (predicted_positives + K.epsilon())\n",
        "    return precision\n",
        "\n",
        "def recall(y_true, y_pred):\n",
        "    true_positives = K.sum(K.round(K.clip(y_true * y_pred, 0, 1)))\n",
        "    possible_positives = K.sum(K.round(K.clip(y_true, 0, 1)))\n",
        "    recall = true_positives / (possible_positives + K.epsilon())\n",
        "    return recall\n",
        "\n",
        "def fbeta_score(y_true, y_pred, beta=1):\n",
        "    if K.sum(K.round(K.clip(y_true, 0, 1))) == 0:\n",
        "        return 0\n",
        "    p = precision(y_true, y_pred)\n",
        "    r = recall(y_true, y_pred)\n",
        "    bb = beta ** 2\n",
        "    fbeta_score = (1 + bb) * (p * r) / (bb * p + r + K.epsilon())\n",
        "    return fbeta_score\n",
        "\n",
        "\n",
        "def cosine_distance(y1, y2):\n",
        "    mult =  tf.multiply(y1, y2)\n",
        "    cosine_numerator = tf.reduce_sum( mult, axis = -1)\n",
        "    y1_norm = tf.sqrt(tf.maximum(tf.reduce_sum(tf.square(y1), axis=-1 ), eps) ) \n",
        "    y2_norm = tf.sqrt(tf.maximum(tf.reduce_sum(tf.square(y2), axis=-1 ), eps) ) \n",
        "    return cosine_numerator / y1_norm / y2_norm\n",
        "\n",
        "def cal_relevancy_matrix(text_vector, hypo_vector):\n",
        "    text_vector_tmp = tf.expand_dims(text_vector, 1) # [batch_size, 1, question_len, dim]\n",
        "    hypo_vector_tmp = tf.expand_dims(hypo_vector, 2) # [batch_size, passage_len, 1, dim]\n",
        "    relevancy_matrix = cosine_distance(text_vector_tmp, hypo_vector_tmp) # [batch_size, passage_len, question_len]\n",
        "    return relevancy_matrix\n",
        "\n",
        "def mask_relevancy_matrix(relevancy_matrix, text_mask, hypo_mask):\n",
        "    relevancy_matrix = tf.multiply(relevancy_matrix, K.expand_dims(text_mask, 1))\n",
        "    relevancy_matrix = tf.multiply(relevancy_matrix, K.expand_dims(hypo_mask, 2))\n",
        "    return relevancy_matrix\n",
        "\n",
        "def max_mean_pooling(repres, cosine_matrix):\n",
        "    \n",
        "    repres.append(tf.reduce_max(cosine_matrix, axis = 2, keep_dims = True))\n",
        "    repres.append(tf.reduce_mean(cosine_matrix, axis = 2, keep_dims = True))\n",
        "\n",
        "    return repres\n",
        "\n",
        "def matching_layer(inputs):\n",
        "    forward_relevancy_matrix = cal_relevancy_matrix(inputs[0], inputs[2])\n",
        "    backward_relevancy_matrix = cal_relevancy_matrix(inputs[1], inputs[3])\n",
        "\n",
        "    representation = []\n",
        "\n",
        "    max_mean_pooling(representation, forward_relevancy_matrix)\n",
        "    max_mean_pooling(representation, backward_relevancy_matrix)\n",
        "    \n",
        "    return representation"
      ],
      "execution_count": 0,
      "outputs": []
    },
    {
      "metadata": {
        "id": "vUAgat75Q4c1",
        "colab_type": "text"
      },
      "cell_type": "markdown",
      "source": [
        "## Matching layer"
      ]
    },
    {
      "metadata": {
        "id": "7cvU0pxoQ4c2",
        "colab_type": "code",
        "colab": {}
      },
      "cell_type": "code",
      "source": [
        "class MatchLayer(Layer):\n",
        "\n",
        "    def __init__(self, dim, seq_length, **kwargs):\n",
        "        super(MatchLayer, self).__init__(**kwargs)\n",
        "        self.supports_masking = True\n",
        "        self.dim = dim\n",
        "        self.seq_length = seq_length\n",
        "        \n",
        "    def build(self, input_shape):\n",
        "        if not isinstance(input_shape, list):\n",
        "            raise ValueError('`MatchLayer` layer should be called '\n",
        "                             'on a list of inputs')\n",
        "        \n",
        "        if all([shape is None for shape in input_shape]):\n",
        "            return\n",
        "        \n",
        "        super(MatchLayer, self).build(input_shape)  # Be sure to call this somewhere!\n",
        "\n",
        "    def call(self, inputs):\n",
        "        if not isinstance(inputs, list):\n",
        "            raise ValueError('A `MatchLayer` layer should be called ')\n",
        "        \n",
        "        return matching_layer(inputs)\n",
        "    \n",
        "    def compute_output_shape(self, input_shape):\n",
        "        if not isinstance(input_shape, list):\n",
        "            raise ValueError('A `MatchLayer` layer should be called '\n",
        "                             'on a list of inputs.')\n",
        "        \n",
        "        input_shapes = input_shape\n",
        "        output_shape = list(input_shapes[0])\n",
        "                             \n",
        "        return [ (None, output_shape[1] , 1) ] * 4 \n",
        "    \n",
        "    def get_config(self):\n",
        "        config = {\n",
        "\n",
        "        }\n",
        "        base_config = super(MatchLayer, self).get_config()\n",
        "        return dict(list(base_config.items()) + list(config.items()))\n",
        "    \n",
        "class MaxPoolingLayer(Layer):\n",
        "\n",
        "    def __init__(self, **kwargs):\n",
        "        super(MaxPoolingLayer, self).__init__(**kwargs)\n",
        "        \n",
        "    def build(self, input_shape):\n",
        "        super(MaxPoolingLayer, self).build(input_shape)\n",
        "    \n",
        "    def call(self, inputs):\n",
        "        return max_mean_pooling([], inputs)\n",
        "    \n",
        "    def compute_output_shape(self, input_shape):            \n",
        "        output_shape = list(input_shape)\n",
        "        return [ (None, output_shape[1] , 1) ] * 2\n",
        "    \n",
        "    def compute_mask(self, inputs, mask):\n",
        "        return [mask, mask]\n"
      ],
      "execution_count": 0,
      "outputs": []
    },
    {
      "metadata": {
        "id": "7CwmikhEQ4c5",
        "colab_type": "code",
        "outputId": "18ddb16c-5000-4c6b-df85-4846f9022add",
        "colab": {
          "base_uri": "https://localhost:8080/",
          "height": 34
        }
      },
      "cell_type": "code",
      "source": [
        "models = {};\n",
        "\n",
        "def word_context(input, name):\n",
        "    embedding = Embedding(words_len + 1,\n",
        "                     embedding_dim,\n",
        "                     weights = [word_embedding_matrix],\n",
        "                     input_length = max_seq_length,\n",
        "                     trainable = False,\n",
        "                     name = name + '_embedding')(input)\n",
        "    \n",
        "    word = Dropout(0.1)(embedding)\n",
        "\n",
        "    context = Bidirectional(LSTM(100, return_sequences = True),\n",
        "                            merge_mode = None,\n",
        "                            name = name + '_context')(word)\n",
        "    \n",
        "    return (word, context)\n",
        "\n",
        "def create_model():\n",
        "    \n",
        "    sentence1_input = Input(shape=(max_seq_length,), dtype='int32', name = 'text')\n",
        "    sentence2_input = Input(shape=(max_seq_length,), dtype='int32', name = 'hypothesis')\n",
        "    \n",
        "    (text_embedding, text_context) = word_context(sentence1_input, 'text')\n",
        "    (hypo_embedding, hypo_context) = word_context(sentence2_input, 'hypothesis')\n",
        "\n",
        "    left_context = []\n",
        "    left_context.extend(hypo_context)\n",
        "    left_context.extend(text_context)\n",
        "    \n",
        "    left_match = MatchLayer(embedding_dim, max_seq_length)( left_context )\n",
        "    \n",
        "    right_context = []\n",
        "    right_context.extend(text_context)\n",
        "    right_context.extend(hypo_context)\n",
        "    \n",
        "    right_match = MatchLayer(embedding_dim, max_seq_length)( right_context )\n",
        "    \n",
        "    cosine_left = Lambda(lambda x_input: cal_relevancy_matrix(x_input[0], x_input[1]))( [text_embedding, hypo_embedding] )\n",
        "    cosine_right = Lambda(lambda cosine: tf.transpose(cosine, perm=[0,2,1]))( cosine_left )\n",
        "    \n",
        "    left_representation = MaxPoolingLayer()( cosine_left )\n",
        "    right_representation = MaxPoolingLayer()( cosine_right )\n",
        "    \n",
        "    left_representation.extend( left_match )\n",
        "    right_representation.extend( right_match ) \n",
        "    \n",
        "    left = concatenate(left_representation, axis = 2)\n",
        "    left = Dropout(0.1)(left)\n",
        "    \n",
        "    right = concatenate(right_representation, axis = 2)\n",
        "    right = Dropout(0.1)(right)\n",
        "    \n",
        "\n",
        "    aggregation_left = Bidirectional(LSTM(100),\n",
        "                            name = 'aggregation_text_context')(left)\n",
        "    \n",
        "    aggregation_right = Bidirectional(LSTM(100),\n",
        "                            name = 'aggregation_hypo_context')(right)\n",
        "    \n",
        "    aggregation = concatenate([aggregation_left, aggregation_right], axis = -1)\n",
        "                               \n",
        "    pred = Dense(200, activation = 'tanh', name = 'tanh_prediction')(aggregation)\n",
        "    pred = Dense(3, activation = 'softmax', name = 'softmax_prediction')(pred)\n",
        "    \n",
        "    optimizer = Adam(lr=0.001, beta_1=0.9, beta_2=0.999, epsilon=1e-08, decay=0.0)\n",
        "    \n",
        "    model = Model(inputs=[sentence1_input, sentence2_input], outputs = pred)\n",
        "    model.compile(loss = 'categorical_crossentropy', \n",
        "              optimizer = optimizer,\n",
        "              metrics = ['accuracy'])\n",
        "    \n",
        "    print('Model created')\n",
        "    \n",
        "    return model\n",
        "\n",
        "\n",
        "models['adam'] = create_model()\n",
        "\n"
      ],
      "execution_count": 76,
      "outputs": [
        {
          "output_type": "stream",
          "text": [
            "Model created\n"
          ],
          "name": "stdout"
        }
      ]
    },
    {
      "metadata": {
        "id": "1fYREb0ppn4Z",
        "colab_type": "code",
        "colab": {
          "base_uri": "https://localhost:8080/",
          "height": 1224
        },
        "outputId": "8f0d7cce-a739-43ce-d220-aa823889de0b"
      },
      "cell_type": "code",
      "source": [
        "models['adam'].summary()"
      ],
      "execution_count": 77,
      "outputs": [
        {
          "output_type": "stream",
          "text": [
            "__________________________________________________________________________________________________\n",
            "Layer (type)                    Output Shape         Param #     Connected to                     \n",
            "==================================================================================================\n",
            "text (InputLayer)               (None, 30)           0                                            \n",
            "__________________________________________________________________________________________________\n",
            "hypothesis (InputLayer)         (None, 30)           0                                            \n",
            "__________________________________________________________________________________________________\n",
            "text_embedding (Embedding)      (None, 30, 300)      655500      text[0][0]                       \n",
            "__________________________________________________________________________________________________\n",
            "hypothesis_embedding (Embedding (None, 30, 300)      655500      hypothesis[0][0]                 \n",
            "__________________________________________________________________________________________________\n",
            "dropout_13 (Dropout)            (None, 30, 300)      0           text_embedding[0][0]             \n",
            "__________________________________________________________________________________________________\n",
            "dropout_14 (Dropout)            (None, 30, 300)      0           hypothesis_embedding[0][0]       \n",
            "__________________________________________________________________________________________________\n",
            "lambda_7 (Lambda)               (None, 30, 30)       0           dropout_13[0][0]                 \n",
            "                                                                 dropout_14[0][0]                 \n",
            "__________________________________________________________________________________________________\n",
            "hypothesis_context (Bidirection [(None, 30, 100), (N 320800      dropout_14[0][0]                 \n",
            "__________________________________________________________________________________________________\n",
            "text_context (Bidirectional)    [(None, 30, 100), (N 320800      dropout_13[0][0]                 \n",
            "__________________________________________________________________________________________________\n",
            "lambda_8 (Lambda)               (None, 30, 30)       0           lambda_7[0][0]                   \n",
            "__________________________________________________________________________________________________\n",
            "max_pooling_layer_7 (MaxPooling [(None, 30, 1), (Non 0           lambda_7[0][0]                   \n",
            "__________________________________________________________________________________________________\n",
            "match_layer_7 (MatchLayer)      [(None, 30, 1), (Non 0           hypothesis_context[0][0]         \n",
            "                                                                 hypothesis_context[0][1]         \n",
            "                                                                 text_context[0][0]               \n",
            "                                                                 text_context[0][1]               \n",
            "__________________________________________________________________________________________________\n",
            "max_pooling_layer_8 (MaxPooling [(None, 30, 1), (Non 0           lambda_8[0][0]                   \n",
            "__________________________________________________________________________________________________\n",
            "match_layer_8 (MatchLayer)      [(None, 30, 1), (Non 0           text_context[0][0]               \n",
            "                                                                 text_context[0][1]               \n",
            "                                                                 hypothesis_context[0][0]         \n",
            "                                                                 hypothesis_context[0][1]         \n",
            "__________________________________________________________________________________________________\n",
            "concatenate_10 (Concatenate)    (None, 30, 6)        0           max_pooling_layer_7[0][0]        \n",
            "                                                                 max_pooling_layer_7[0][1]        \n",
            "                                                                 match_layer_7[0][0]              \n",
            "                                                                 match_layer_7[0][1]              \n",
            "                                                                 match_layer_7[0][2]              \n",
            "                                                                 match_layer_7[0][3]              \n",
            "__________________________________________________________________________________________________\n",
            "concatenate_11 (Concatenate)    (None, 30, 6)        0           max_pooling_layer_8[0][0]        \n",
            "                                                                 max_pooling_layer_8[0][1]        \n",
            "                                                                 match_layer_8[0][0]              \n",
            "                                                                 match_layer_8[0][1]              \n",
            "                                                                 match_layer_8[0][2]              \n",
            "                                                                 match_layer_8[0][3]              \n",
            "__________________________________________________________________________________________________\n",
            "dropout_15 (Dropout)            (None, 30, 6)        0           concatenate_10[0][0]             \n",
            "__________________________________________________________________________________________________\n",
            "dropout_16 (Dropout)            (None, 30, 6)        0           concatenate_11[0][0]             \n",
            "__________________________________________________________________________________________________\n",
            "aggregation_text_context (Bidir (None, 200)          85600       dropout_15[0][0]                 \n",
            "__________________________________________________________________________________________________\n",
            "aggregation_hypo_context (Bidir (None, 200)          85600       dropout_16[0][0]                 \n",
            "__________________________________________________________________________________________________\n",
            "concatenate_12 (Concatenate)    (None, 400)          0           aggregation_text_context[0][0]   \n",
            "                                                                 aggregation_hypo_context[0][0]   \n",
            "__________________________________________________________________________________________________\n",
            "tanh_prediction (Dense)         (None, 200)          80200       concatenate_12[0][0]             \n",
            "__________________________________________________________________________________________________\n",
            "softmax_prediction (Dense)      (None, 3)            603         tanh_prediction[0][0]            \n",
            "==================================================================================================\n",
            "Total params: 2,204,603\n",
            "Trainable params: 893,603\n",
            "Non-trainable params: 1,311,000\n",
            "__________________________________________________________________________________________________\n"
          ],
          "name": "stdout"
        }
      ]
    },
    {
      "metadata": {
        "id": "4D9AyEy8aoAR",
        "colab_type": "code",
        "outputId": "1dcf36f0-209c-452b-b143-4d42bdc1540d",
        "colab": {
          "base_uri": "https://localhost:8080/",
          "height": 1168
        }
      },
      "cell_type": "code",
      "source": [
        "plot_model(models['adam'], to_file = model_name + '-model.png', show_shapes=False)\n",
        "Image(filename = model_name + '-model.png')"
      ],
      "execution_count": 78,
      "outputs": [
        {
          "output_type": "execute_result",
          "data": {
            "image/png": "[encoded data removed]",
            "text/plain": [
              "<IPython.core.display.Image object>"
            ]
          },
          "metadata": {
            "tags": []
          },
          "execution_count": 78
        }
      ]
    },
    {
      "metadata": {
        "id": "VLrVviOrQ4c-",
        "colab_type": "text"
      },
      "cell_type": "markdown",
      "source": [
        "## Train Model"
      ]
    },
    {
      "metadata": {
        "id": "5tLhCZL3NPvB",
        "colab_type": "code",
        "outputId": "ea3685b9-badb-4fac-a430-1bfa19314244",
        "colab": {
          "base_uri": "https://localhost:8080/",
          "height": 34
        }
      },
      "cell_type": "code",
      "source": [
        "s1_data.shape"
      ],
      "execution_count": 79,
      "outputs": [
        {
          "output_type": "execute_result",
          "data": {
            "text/plain": [
              "(4500, 30)"
            ]
          },
          "metadata": {
            "tags": []
          },
          "execution_count": 79
        }
      ]
    },
    {
      "metadata": {
        "id": "S3Ad6hIrXXb2",
        "colab_type": "code",
        "colab": {
          "base_uri": "https://localhost:8080/",
          "height": 1139
        },
        "outputId": "1a808c2b-07db-4817-b6ab-0d3e369d7d8c"
      },
      "cell_type": "code",
      "source": [
        "\n",
        "results = []\n",
        "for name, model in models.items():\n",
        "    callbacks = [\n",
        "        BaseLogger(),\n",
        "        ReduceLROnPlateau(monitor = 'val_loss', factor=0.2, patience=5, min_lr=0.001),\n",
        "        TensorBoard(log_dir='./' + model_name + '-' + name + '-logs', histogram_freq=0, write_graph=True, write_images=True),\n",
        "        ModelCheckpoint(model_name + '-' + name + '-checkpoint-weights.{epoch:02d}-{val_acc:.2f}.hdf5', monitor='val_acc', save_best_only=True)\n",
        "    ]\n",
        "    \n",
        "    start_time = time.time()\n",
        "    print('')\n",
        "    print('Start learning %s at %d' % (name, start_time))\n",
        "    print('Epochs: %d' % epochs)\n",
        "    print('Batch size: %d' % batch_size)\n",
        "\n",
        "    history = model.fit([s1_data, s2_data],\n",
        "                        labels,\n",
        "                        epochs = 30,\n",
        "                        batch_size = batch_size,\n",
        "                        validation_data=([s1_dataValid, s2_dataValid], labelsValid),\n",
        "                        shuffle = False, #True,\n",
        "                        verbose = 2,\n",
        "                        callbacks = callbacks)\n",
        "\n",
        " #   model.save(model_name + '-' + name + '-model.h5')\n",
        " #   model.save_weights(model_name + '-' + name + '-weights.h5')\n",
        "\n",
        "    end_time = time.time()\n",
        "    average_time_per_epoch = (end_time - start_time) / epochs\n",
        "    results.append((history, average_time_per_epoch))\n",
        "    \n",
        "    print('Time: %d' % (end_time - start_time))"
      ],
      "execution_count": 80,
      "outputs": [
        {
          "output_type": "stream",
          "text": [
            "\n",
            "Start learning adam at 1553229886\n",
            "Epochs: 10\n",
            "Batch size: 32\n",
            "Train on 4500 samples, validate on 500 samples\n",
            "Epoch 1/30\n",
            " - 73s - loss: 0.8924 - acc: 0.5924 - val_loss: 0.8020 - val_acc: 0.6040\n",
            "Epoch 2/30\n",
            " - 64s - loss: 0.6937 - acc: 0.6907 - val_loss: 0.6705 - val_acc: 0.6520\n",
            "Epoch 3/30\n",
            " - 64s - loss: 0.6238 - acc: 0.7122 - val_loss: 0.6217 - val_acc: 0.7280\n",
            "Epoch 4/30\n",
            " - 65s - loss: 0.5783 - acc: 0.7311 - val_loss: 0.5950 - val_acc: 0.7220\n",
            "Epoch 5/30\n",
            " - 64s - loss: 0.5436 - acc: 0.7513 - val_loss: 0.6117 - val_acc: 0.7200\n",
            "Epoch 6/30\n",
            " - 63s - loss: 0.4934 - acc: 0.7791 - val_loss: 0.6357 - val_acc: 0.7220\n",
            "Epoch 7/30\n",
            " - 64s - loss: 0.4546 - acc: 0.8009 - val_loss: 0.6517 - val_acc: 0.7520\n",
            "Epoch 8/30\n",
            " - 64s - loss: 0.4065 - acc: 0.8184 - val_loss: 0.7351 - val_acc: 0.7060\n",
            "Epoch 9/30\n",
            " - 64s - loss: 0.3816 - acc: 0.8351 - val_loss: 0.8118 - val_acc: 0.6740\n",
            "Epoch 10/30\n",
            " - 64s - loss: 0.3372 - acc: 0.8567 - val_loss: 0.8134 - val_acc: 0.7080\n",
            "Epoch 11/30\n",
            " - 64s - loss: 0.2833 - acc: 0.8847 - val_loss: 0.8423 - val_acc: 0.7060\n",
            "Epoch 12/30\n",
            " - 64s - loss: 0.2765 - acc: 0.8809 - val_loss: 0.9597 - val_acc: 0.6820\n",
            "Epoch 13/30\n",
            " - 64s - loss: 0.2627 - acc: 0.8918 - val_loss: 1.0448 - val_acc: 0.6620\n",
            "Epoch 14/30\n",
            " - 64s - loss: 0.2377 - acc: 0.9053 - val_loss: 1.0554 - val_acc: 0.6820\n",
            "Epoch 15/30\n",
            " - 65s - loss: 0.2050 - acc: 0.9182 - val_loss: 1.1115 - val_acc: 0.6880\n",
            "Epoch 16/30\n",
            " - 65s - loss: 0.1859 - acc: 0.9269 - val_loss: 1.1254 - val_acc: 0.6800\n",
            "Epoch 17/30\n",
            " - 65s - loss: 0.1747 - acc: 0.9333 - val_loss: 1.2884 - val_acc: 0.6760\n",
            "Epoch 18/30\n",
            " - 64s - loss: 0.1569 - acc: 0.9424 - val_loss: 1.8525 - val_acc: 0.6280\n",
            "Epoch 19/30\n",
            " - 64s - loss: 0.1701 - acc: 0.9411 - val_loss: 1.1608 - val_acc: 0.6760\n",
            "Epoch 20/30\n",
            " - 64s - loss: 0.1195 - acc: 0.9584 - val_loss: 1.6237 - val_acc: 0.6340\n",
            "Epoch 21/30\n",
            " - 64s - loss: 0.1249 - acc: 0.9536 - val_loss: 1.4572 - val_acc: 0.6380\n",
            "Epoch 22/30\n",
            " - 64s - loss: 0.1103 - acc: 0.9580 - val_loss: 1.5968 - val_acc: 0.6540\n",
            "Epoch 23/30\n",
            " - 64s - loss: 0.0862 - acc: 0.9676 - val_loss: 1.8288 - val_acc: 0.6320\n",
            "Epoch 24/30\n",
            " - 64s - loss: 0.0847 - acc: 0.9687 - val_loss: 1.6023 - val_acc: 0.6640\n",
            "Epoch 25/30\n",
            " - 63s - loss: 0.0705 - acc: 0.9753 - val_loss: 1.6671 - val_acc: 0.6740\n",
            "Epoch 26/30\n",
            " - 63s - loss: 0.0742 - acc: 0.9749 - val_loss: 1.6698 - val_acc: 0.6820\n",
            "Epoch 27/30\n",
            " - 63s - loss: 0.0679 - acc: 0.9760 - val_loss: 1.6979 - val_acc: 0.7000\n",
            "Epoch 28/30\n",
            " - 63s - loss: 0.0615 - acc: 0.9780 - val_loss: 1.7248 - val_acc: 0.6860\n",
            "Epoch 29/30\n",
            " - 65s - loss: 0.0598 - acc: 0.9789 - val_loss: 1.7288 - val_acc: 0.6860\n",
            "Epoch 30/30\n",
            " - 64s - loss: 0.0516 - acc: 0.9813 - val_loss: 1.9517 - val_acc: 0.6700\n",
            "Time: 1956\n"
          ],
          "name": "stdout"
        }
      ]
    },
    {
      "metadata": {
        "id": "Q_g17qBsXXtD",
        "colab_type": "code",
        "outputId": "6bf42057-b96b-4682-d831-c680dc768fa6",
        "colab": {
          "base_uri": "https://localhost:8080/",
          "height": 749
        }
      },
      "cell_type": "code",
      "source": [
        "plt.style.use('ggplot')\n",
        "plt.figure(figsize=(14, 10))#, dpi=100)\n",
        "\n",
        "ax1 = plt.subplot2grid((3, 2), (0, 0))\n",
        "ax1.set_title('Training Accuracy')\n",
        "ax1.set_ylabel('Accuracy')\n",
        "ax1.set_xlabel('Epochs')\n",
        "\n",
        "ax2 = plt.subplot2grid((3, 2), (1, 0))\n",
        "ax2.set_title('Training Loss')\n",
        "ax2.set_ylabel('Loss')\n",
        "ax2.set_xlabel('Epochs')\n",
        "\n",
        "ax3 = plt.subplot2grid((3, 2), (0, 1))\n",
        "ax3.set_title('Validation Accuracy')\n",
        "ax3.set_ylabel('Accuracy')\n",
        "ax3.set_xlabel('Epochs')\n",
        "\n",
        "ax4 = plt.subplot2grid((3, 2), (1, 1))\n",
        "ax4.set_title('Validation Loss')\n",
        "ax4.set_ylabel('Loss')\n",
        "ax4.set_xlabel('Epochs')\n",
        "\n",
        "ax5 = plt.subplot2grid((3, 2), (2, 0), rowspan=1, colspan=2)\n",
        "ax5.set_title('Time')\n",
        "ax5.set_ylabel('Seconds')\n",
        "\n",
        "for mode, result in zip(models, results):\n",
        "    ax1.plot(result[0].epoch, result[0].history['acc'], label=mode)\n",
        "    ax2.plot(result[0].epoch, result[0].history['loss'], label=mode)\n",
        "    ax3.plot(result[0].epoch, result[0].history['val_acc'], label=mode)\n",
        "    ax4.plot(result[0].epoch, result[0].history['val_loss'], label=mode)\n",
        "    \n",
        "ax1.legend()\n",
        "ax2.legend()\n",
        "\n",
        "ax3.legend()\n",
        "ax4.legend()\n",
        "\n",
        "ax5.bar(np.arange(len(results)), [x[1] for x in results], tick_label = models.keys(), align='center')\n",
        "\n",
        "plt.tight_layout()\n",
        "plt.savefig(model_name + '-acc-loss.png', dpi = 300)\n",
        "#plt.show()"
      ],
      "execution_count": 81,
      "outputs": [
        {
          "output_type": "display_data",
          "data": {
            "image/png": "[encoded data removed]",
            "text/plain": [
              "<Figure size 1008x720 with 5 Axes>"
            ]
          },
          "metadata": {
            "tags": []
          }
        }
      ]
    },
    {
      "metadata": {
        "id": "49C1lal7Q4dM",
        "colab_type": "text"
      },
      "cell_type": "markdown",
      "source": [
        "## Prediction and Model Evaluation\n"
      ]
    },
    {
      "metadata": {
        "id": "89ZtyaoaQ4dO",
        "colab_type": "code",
        "outputId": "844195fc-e8da-4d3a-b6d9-336e96858405",
        "colab": {
          "base_uri": "https://localhost:8080/",
          "height": 68
        }
      },
      "cell_type": "code",
      "source": [
        "test_s1_word_sequences = tokenizer.texts_to_sequences(test['sentence_A'].values.tolist())\n",
        "test_s2_word_sequences = tokenizer.texts_to_sequences(test['sentence_B'].values.tolist())\n",
        "\n",
        "test_s1_data = pad_sequences(test_s1_word_sequences, maxlen = max_seq_length)\n",
        "test_s2_data = pad_sequences(test_s2_word_sequences, maxlen = max_seq_length)\n",
        "test_labels = np_utils.to_categorical(le.fit_transform(test[\"entailment_judgment\"].values)).astype(\"int64\")\n",
        "\n",
        "print('Shape of test sentence1 tensor:', test_s1_data.shape)\n",
        "print('Shape of test sentence2 tensor:', test_s2_data.shape)\n",
        "print('Shape of test label tensor:', test_labels.shape)"
      ],
      "execution_count": 82,
      "outputs": [
        {
          "output_type": "stream",
          "text": [
            "Shape of test sentence1 tensor: (4927, 30)\n",
            "Shape of test sentence2 tensor: (4927, 30)\n",
            "Shape of test label tensor: (4927, 3)\n"
          ],
          "name": "stdout"
        }
      ]
    },
    {
      "metadata": {
        "id": "-71llNo0Q4dU",
        "colab_type": "code",
        "outputId": "b17b1783-9093-4afc-e3c2-4054e8eb1c01",
        "colab": {
          "base_uri": "https://localhost:8080/",
          "height": 68
        }
      },
      "cell_type": "code",
      "source": [
        "for name, model in models.items():\n",
        "    loss, accuracy = model.evaluate([test_s1_data, test_s2_data], test_labels)\n",
        "    print('loss     = ', loss)\n",
        "    print('accuracy = ', accuracy)"
      ],
      "execution_count": 83,
      "outputs": [
        {
          "output_type": "stream",
          "text": [
            "4927/4927 [==============================] - 23s 5ms/step\n",
            "loss     =  1.7030310549865708\n",
            "accuracy =  0.6969758473837233\n"
          ],
          "name": "stdout"
        }
      ]
    },
    {
      "metadata": {
        "id": "vRsPG2Usex5s",
        "colab_type": "code",
        "colab": {}
      },
      "cell_type": "code",
      "source": [
        "for name, model in models.items():\n",
        "    test_pred = model.predict([test_s1_data, test_s2_data], batch_size=32)\n",
        "    "
      ],
      "execution_count": 0,
      "outputs": []
    },
    {
      "metadata": {
        "id": "chLRzVLAJCuy",
        "colab_type": "code",
        "outputId": "775118b9-d4cd-42bc-b57e-bf2ffdd5dbd0",
        "colab": {
          "base_uri": "https://localhost:8080/",
          "height": 136
        }
      },
      "cell_type": "code",
      "source": [
        "test_pred"
      ],
      "execution_count": 85,
      "outputs": [
        {
          "output_type": "execute_result",
          "data": {
            "text/plain": [
              "array([[6.8183290e-08, 4.3926573e-08, 9.9999988e-01],\n",
              "       [3.7047252e-07, 1.5178803e-04, 9.9984777e-01],\n",
              "       [3.4712980e-06, 1.6585862e-05, 9.9997997e-01],\n",
              "       ...,\n",
              "       [6.0782462e-08, 5.3035283e-06, 9.9999464e-01],\n",
              "       [6.8832628e-07, 2.9809278e-06, 9.9999630e-01],\n",
              "       [1.4718914e-07, 3.3651231e-04, 9.9966335e-01]], dtype=float32)"
            ]
          },
          "metadata": {
            "tags": []
          },
          "execution_count": 85
        }
      ]
    },
    {
      "metadata": {
        "id": "XfhSXjw1Q4dh",
        "colab_type": "code",
        "colab": {}
      },
      "cell_type": "code",
      "source": [
        "output= list()\n",
        "for x in test_pred:\n",
        "  output.append([\"CONTRADICTION\", \"ENTAILMENT\", \"NEUTRAL\"][np.argmax(x)])\n",
        "\n",
        "test[\"Actual Output\"] = output\n",
        "\n",
        "test.to_excel(\"output.xlsx\")"
      ],
      "execution_count": 0,
      "outputs": []
    },
    {
      "metadata": {
        "id": "p9eMqLMPQ4dj",
        "colab_type": "code",
        "outputId": "c3d4de57-e1f2-477a-dbe7-97141d849666",
        "colab": {
          "base_uri": "https://localhost:8080/",
          "height": 187
        }
      },
      "cell_type": "code",
      "source": [
        "from sklearn.metrics import classification_report\n",
        "\n",
        "predicted = np.argmax(test_pred, axis=1)\n",
        "report = classification_report(test[\"entailment_judgment\"], test[\"Actual Output\"])\n",
        "print(report)\n"
      ],
      "execution_count": 87,
      "outputs": [
        {
          "output_type": "stream",
          "text": [
            "               precision    recall  f1-score   support\n",
            "\n",
            "CONTRADICTION       0.67      0.72      0.69       720\n",
            "   ENTAILMENT       0.66      0.48      0.56      1414\n",
            "      NEUTRAL       0.72      0.80      0.76      2793\n",
            "\n",
            "    micro avg       0.70      0.70      0.70      4927\n",
            "    macro avg       0.68      0.67      0.67      4927\n",
            " weighted avg       0.69      0.70      0.69      4927\n",
            "\n"
          ],
          "name": "stdout"
        }
      ]
    }
  ]
}